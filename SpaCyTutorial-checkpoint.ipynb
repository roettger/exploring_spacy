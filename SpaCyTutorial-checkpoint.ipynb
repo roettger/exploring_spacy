{
 "cells": [
  {
   "cell_type": "markdown",
   "metadata": {},
   "source": [
    "# SpaCy Tutorial on https://www.machinelearningplus.com/spacy-tutorial-nlp/#docobject & https://blog.dominodatalab.com/natural-language-in-python-using-spacy/"
   ]
  },
  {
   "cell_type": "code",
   "execution_count": 1,
   "metadata": {},
   "outputs": [
    {
     "name": "stdout",
     "output_type": "stream",
     "text": [
      "['tagger', 'parser', 'ner']\n",
      "[!] Skipping model package dependencies and setting `--no-deps`. You don't seem\n",
      "to have the spaCy package itself installed (maybe because you've built from\n",
      "source?), so installing the model dependencies would cause spaCy to be\n",
      "downloaded, which probably isn't what you want. If the model package has other\n",
      "dependencies, you'll have to install them manually.\n",
      "\n",
      "[x] No compatible model found for 'fr_core_web_lg' (spaCy v2.3.2).\n",
      "\n"
     ]
    }
   ],
   "source": [
    "import spacy\n",
    "import fr_core_news_md\n",
    "from spacy import displacy\n",
    "nlp = fr_core_news_md.load()\n",
    "#nlp = spacy.load(\"fr_core_web_md\")\n",
    "print(nlp.pipe_names)\n",
    "!python -m spacy download fr_core_web_lg"
   ]
  },
  {
   "cell_type": "code",
   "execution_count": 2,
   "metadata": {},
   "outputs": [
    {
     "name": "stdout",
     "output_type": "stream",
     "text": [
      "Cela   True\n",
      "est   True\n",
      "bien   True\n",
      "dit   True\n",
      ",   True\n",
      "répondit   True\n",
      "Candide   True\n",
      ",   True\n",
      "mais   True\n",
      "il   True\n",
      "faut   True\n",
      "cultiver   True\n",
      "notre   True\n",
      "jardin   True\n",
      ".   True\n"
     ]
    }
   ],
   "source": [
    "tokens = nlp(\"Cela est bien dit, répondit Candide, mais il faut cultiver notre jardin.\")\n",
    "\n",
    "for token in tokens:\n",
    "  print(token.text ,' ',token.has_vector)"
   ]
  },
  {
   "cell_type": "code",
   "execution_count": 3,
   "metadata": {},
   "outputs": [
    {
     "name": "stdout",
     "output_type": "stream",
     "text": [
      "Cela   44.669857 cela PRON\n",
      "est   51.685936 être AUX\n",
      "bien   34.909897 bien ADV\n",
      "dit   49.06739 dire VERB\n",
      ",   32.17065 , PUNCT\n",
      "répondit   22.246864 répondre VERB\n",
      "Candide   21.422577 Candide PROPN\n",
      ",   32.17065 , PUNCT\n",
      "mais   32.46687 mais CCONJ\n",
      "il   87.90838 il PRON\n",
      "faut   51.740517 falloir VERB\n",
      "cultiver   22.795557 cultiver VERB\n",
      "notre   33.395786 notre DET\n",
      "jardin   29.51032 jardin NOUN\n",
      ".   43.718 . PUNCT\n"
     ]
    }
   ],
   "source": [
    "tokens=nlp(\"Cela est bien dit, répondit Candide, mais il faut cultiver notre jardin.\")\n",
    "for token in tokens:\n",
    "  print(token.text,' ',token.vector_norm, token.lemma_, token.pos_)"
   ]
  },
  {
   "cell_type": "code",
   "execution_count": 11,
   "metadata": {},
   "outputs": [
    {
     "name": "stdout",
     "output_type": "stream",
     "text": [
      "0.4861187762850686\n"
     ]
    }
   ],
   "source": [
    "#Compute Similarity\n",
    "token_1=nlp(\"gentilhomme\")\n",
    "token_2=nlp(\"monseigneur\")\n",
    "\n",
    "similarity_score=token_1.similarity(token_2)\n",
    "print(similarity_score)"
   ]
  },
  {
   "cell_type": "code",
   "execution_count": 12,
   "metadata": {},
   "outputs": [
    {
     "name": "stdout",
     "output_type": "stream",
     "text": [
      "Pizza and burger   0.9999999815526787\n",
      "Pizza and chair   0.25339610850610766\n"
     ]
    }
   ],
   "source": [
    "# Compute Similarity between texts \n",
    "pizza=nlp('pizza')\n",
    "burger=nlp('burger')\n",
    "chair=nlp('chair')\n",
    "\n",
    "print('Pizza and burger  ',pizza.similarity(burger))\n",
    "print('Pizza and chair  ',pizza.similarity(chair))"
   ]
  },
  {
   "cell_type": "code",
   "execution_count": 14,
   "metadata": {},
   "outputs": [
    {
     "name": "stdout",
     "output_type": "stream",
     "text": [
      "Travaillons ----  VERB\n",
      "sans ----  ADP\n",
      "raisonner ----  VERB\n",
      ", ----  PUNCT\n",
      "dit ----  VERB\n",
      "Martin ----  PROPN\n",
      ". ----  PUNCT\n"
     ]
    }
   ],
   "source": [
    "# POS tagging using spaCy\n",
    "my_text='Travaillons sans raisonner, dit Martin.'\n",
    "my_doc=nlp(my_text)\n",
    "for token in my_doc:\n",
    "  print(token.text,'---- ',token.pos_)"
   ]
  },
  {
   "cell_type": "code",
   "execution_count": 18,
   "metadata": {},
   "outputs": [
    {
     "data": {
      "text/html": [
       "<span class=\"tex2jax_ignore\"><svg xmlns=\"http://www.w3.org/2000/svg\" xmlns:xlink=\"http://www.w3.org/1999/xlink\" xml:lang=\"fr\" id=\"5fc6ec2cee57445fb42dc08daab6810d-0\" class=\"displacy\" width=\"925\" height=\"312.0\" direction=\"ltr\" style=\"max-width: none; height: 312.0px; color: #000000; background: #ffffff; font-family: Arial; direction: ltr\">\n",
       "<text class=\"displacy-token\" fill=\"currentColor\" text-anchor=\"middle\" y=\"222.0\">\n",
       "    <tspan class=\"displacy-word\" fill=\"currentColor\" x=\"50\">Il</tspan>\n",
       "    <tspan class=\"displacy-tag\" dy=\"2em\" fill=\"currentColor\" x=\"50\">PRON</tspan>\n",
       "</text>\n",
       "\n",
       "<text class=\"displacy-token\" fill=\"currentColor\" text-anchor=\"middle\" y=\"222.0\">\n",
       "    <tspan class=\"displacy-word\" fill=\"currentColor\" x=\"225\">faut</tspan>\n",
       "    <tspan class=\"displacy-tag\" dy=\"2em\" fill=\"currentColor\" x=\"225\">VERB</tspan>\n",
       "</text>\n",
       "\n",
       "<text class=\"displacy-token\" fill=\"currentColor\" text-anchor=\"middle\" y=\"222.0\">\n",
       "    <tspan class=\"displacy-word\" fill=\"currentColor\" x=\"400\">cultiver</tspan>\n",
       "    <tspan class=\"displacy-tag\" dy=\"2em\" fill=\"currentColor\" x=\"400\">VERB</tspan>\n",
       "</text>\n",
       "\n",
       "<text class=\"displacy-token\" fill=\"currentColor\" text-anchor=\"middle\" y=\"222.0\">\n",
       "    <tspan class=\"displacy-word\" fill=\"currentColor\" x=\"575\">notre</tspan>\n",
       "    <tspan class=\"displacy-tag\" dy=\"2em\" fill=\"currentColor\" x=\"575\">DET</tspan>\n",
       "</text>\n",
       "\n",
       "<text class=\"displacy-token\" fill=\"currentColor\" text-anchor=\"middle\" y=\"222.0\">\n",
       "    <tspan class=\"displacy-word\" fill=\"currentColor\" x=\"750\">jardin.</tspan>\n",
       "    <tspan class=\"displacy-tag\" dy=\"2em\" fill=\"currentColor\" x=\"750\">NOUN</tspan>\n",
       "</text>\n",
       "\n",
       "<g class=\"displacy-arrow\">\n",
       "    <path class=\"displacy-arc\" id=\"arrow-5fc6ec2cee57445fb42dc08daab6810d-0-0\" stroke-width=\"2px\" d=\"M70,177.0 C70,89.5 220.0,89.5 220.0,177.0\" fill=\"none\" stroke=\"currentColor\"/>\n",
       "    <text dy=\"1.25em\" style=\"font-size: 0.8em; letter-spacing: 1px\">\n",
       "        <textPath xlink:href=\"#arrow-5fc6ec2cee57445fb42dc08daab6810d-0-0\" class=\"displacy-label\" startOffset=\"50%\" side=\"left\" fill=\"currentColor\" text-anchor=\"middle\">expl:subj</textPath>\n",
       "    </text>\n",
       "    <path class=\"displacy-arrowhead\" d=\"M70,179.0 L62,167.0 78,167.0\" fill=\"currentColor\"/>\n",
       "</g>\n",
       "\n",
       "<g class=\"displacy-arrow\">\n",
       "    <path class=\"displacy-arc\" id=\"arrow-5fc6ec2cee57445fb42dc08daab6810d-0-1\" stroke-width=\"2px\" d=\"M245,177.0 C245,89.5 395.0,89.5 395.0,177.0\" fill=\"none\" stroke=\"currentColor\"/>\n",
       "    <text dy=\"1.25em\" style=\"font-size: 0.8em; letter-spacing: 1px\">\n",
       "        <textPath xlink:href=\"#arrow-5fc6ec2cee57445fb42dc08daab6810d-0-1\" class=\"displacy-label\" startOffset=\"50%\" side=\"left\" fill=\"currentColor\" text-anchor=\"middle\">xcomp</textPath>\n",
       "    </text>\n",
       "    <path class=\"displacy-arrowhead\" d=\"M395.0,179.0 L403.0,167.0 387.0,167.0\" fill=\"currentColor\"/>\n",
       "</g>\n",
       "\n",
       "<g class=\"displacy-arrow\">\n",
       "    <path class=\"displacy-arc\" id=\"arrow-5fc6ec2cee57445fb42dc08daab6810d-0-2\" stroke-width=\"2px\" d=\"M595,177.0 C595,89.5 745.0,89.5 745.0,177.0\" fill=\"none\" stroke=\"currentColor\"/>\n",
       "    <text dy=\"1.25em\" style=\"font-size: 0.8em; letter-spacing: 1px\">\n",
       "        <textPath xlink:href=\"#arrow-5fc6ec2cee57445fb42dc08daab6810d-0-2\" class=\"displacy-label\" startOffset=\"50%\" side=\"left\" fill=\"currentColor\" text-anchor=\"middle\">det</textPath>\n",
       "    </text>\n",
       "    <path class=\"displacy-arrowhead\" d=\"M595,179.0 L587,167.0 603,167.0\" fill=\"currentColor\"/>\n",
       "</g>\n",
       "\n",
       "<g class=\"displacy-arrow\">\n",
       "    <path class=\"displacy-arc\" id=\"arrow-5fc6ec2cee57445fb42dc08daab6810d-0-3\" stroke-width=\"2px\" d=\"M420,177.0 C420,2.0 750.0,2.0 750.0,177.0\" fill=\"none\" stroke=\"currentColor\"/>\n",
       "    <text dy=\"1.25em\" style=\"font-size: 0.8em; letter-spacing: 1px\">\n",
       "        <textPath xlink:href=\"#arrow-5fc6ec2cee57445fb42dc08daab6810d-0-3\" class=\"displacy-label\" startOffset=\"50%\" side=\"left\" fill=\"currentColor\" text-anchor=\"middle\">obj</textPath>\n",
       "    </text>\n",
       "    <path class=\"displacy-arrowhead\" d=\"M750.0,179.0 L758.0,167.0 742.0,167.0\" fill=\"currentColor\"/>\n",
       "</g>\n",
       "</svg></span>"
      ],
      "text/plain": [
       "<IPython.core.display.HTML object>"
      ]
     },
     "metadata": {},
     "output_type": "display_data"
    }
   ],
   "source": [
    "# Importing displacy\n",
    "from spacy import displacy\n",
    "my_text='Il faut cultiver notre jardin.'\n",
    "my_doc=nlp(my_text)\n",
    "\n",
    "# displaying tokens with their POS tags\n",
    "displacy.render(my_doc,style='dep',jupyter=True)"
   ]
  },
  {
   "cell_type": "code",
   "execution_count": 23,
   "metadata": {},
   "outputs": [
    {
     "name": "stdout",
     "output_type": "stream",
     "text": [
      "(Crésus, Astyage, Darius, Denys de Syracuse, Pyrrhus, Persée, Annibal, Jugurtha, Arioviste, César, Pompée, Néron, Othon, Vitellius, Domitien)\n"
     ]
    }
   ],
   "source": [
    "# Preparing the spaCy document\n",
    "text='Vous savez comment périrent Crésus, Astyage, Darius, Denys de Syracuse, Pyrrhus, Persée, Annibal, Jugurtha, Arioviste, César, Pompée, Néron, Othon, Vitellius, Domitien?'\n",
    "\n",
    "doc=nlp(text)\n",
    "\n",
    "# Printing the named entities\n",
    "print(doc.ents)"
   ]
  },
  {
   "cell_type": "code",
   "execution_count": 24,
   "metadata": {},
   "outputs": [
    {
     "name": "stdout",
     "output_type": "stream",
     "text": [
      "Crésus ---  PER\n",
      "Astyage ---  PER\n",
      "Darius ---  PER\n",
      "Denys de Syracuse ---  PER\n",
      "Pyrrhus ---  PER\n",
      "Persée ---  PER\n",
      "Annibal ---  PER\n",
      "Jugurtha ---  PER\n",
      "Arioviste ---  PER\n",
      "César ---  PER\n",
      "Pompée ---  PER\n",
      "Néron ---  PER\n",
      "Othon ---  PER\n",
      "Vitellius ---  PER\n",
      "Domitien ---  PER\n"
     ]
    }
   ],
   "source": [
    "# Printing labels of entities.\n",
    "for entity in doc.ents:\n",
    "  print(entity.text,'--- ',entity.label_)"
   ]
  },
  {
   "cell_type": "code",
   "execution_count": 25,
   "metadata": {},
   "outputs": [
    {
     "data": {
      "text/html": [
       "<span class=\"tex2jax_ignore\"><div class=\"entities\" style=\"line-height: 2.5; direction: ltr\">Vous savez comment périrent \n",
       "<mark class=\"entity\" style=\"background: #ddd; padding: 0.45em 0.6em; margin: 0 0.25em; line-height: 1; border-radius: 0.35em;\">\n",
       "    Crésus\n",
       "    <span style=\"font-size: 0.8em; font-weight: bold; line-height: 1; border-radius: 0.35em; text-transform: uppercase; vertical-align: middle; margin-left: 0.5rem\">PER</span>\n",
       "</mark>\n",
       ", \n",
       "<mark class=\"entity\" style=\"background: #ddd; padding: 0.45em 0.6em; margin: 0 0.25em; line-height: 1; border-radius: 0.35em;\">\n",
       "    Astyage\n",
       "    <span style=\"font-size: 0.8em; font-weight: bold; line-height: 1; border-radius: 0.35em; text-transform: uppercase; vertical-align: middle; margin-left: 0.5rem\">PER</span>\n",
       "</mark>\n",
       ", \n",
       "<mark class=\"entity\" style=\"background: #ddd; padding: 0.45em 0.6em; margin: 0 0.25em; line-height: 1; border-radius: 0.35em;\">\n",
       "    Darius\n",
       "    <span style=\"font-size: 0.8em; font-weight: bold; line-height: 1; border-radius: 0.35em; text-transform: uppercase; vertical-align: middle; margin-left: 0.5rem\">PER</span>\n",
       "</mark>\n",
       ", \n",
       "<mark class=\"entity\" style=\"background: #ddd; padding: 0.45em 0.6em; margin: 0 0.25em; line-height: 1; border-radius: 0.35em;\">\n",
       "    Denys de Syracuse\n",
       "    <span style=\"font-size: 0.8em; font-weight: bold; line-height: 1; border-radius: 0.35em; text-transform: uppercase; vertical-align: middle; margin-left: 0.5rem\">PER</span>\n",
       "</mark>\n",
       ", \n",
       "<mark class=\"entity\" style=\"background: #ddd; padding: 0.45em 0.6em; margin: 0 0.25em; line-height: 1; border-radius: 0.35em;\">\n",
       "    Pyrrhus\n",
       "    <span style=\"font-size: 0.8em; font-weight: bold; line-height: 1; border-radius: 0.35em; text-transform: uppercase; vertical-align: middle; margin-left: 0.5rem\">PER</span>\n",
       "</mark>\n",
       ", \n",
       "<mark class=\"entity\" style=\"background: #ddd; padding: 0.45em 0.6em; margin: 0 0.25em; line-height: 1; border-radius: 0.35em;\">\n",
       "    Persée\n",
       "    <span style=\"font-size: 0.8em; font-weight: bold; line-height: 1; border-radius: 0.35em; text-transform: uppercase; vertical-align: middle; margin-left: 0.5rem\">PER</span>\n",
       "</mark>\n",
       ", \n",
       "<mark class=\"entity\" style=\"background: #ddd; padding: 0.45em 0.6em; margin: 0 0.25em; line-height: 1; border-radius: 0.35em;\">\n",
       "    Annibal\n",
       "    <span style=\"font-size: 0.8em; font-weight: bold; line-height: 1; border-radius: 0.35em; text-transform: uppercase; vertical-align: middle; margin-left: 0.5rem\">PER</span>\n",
       "</mark>\n",
       ", \n",
       "<mark class=\"entity\" style=\"background: #ddd; padding: 0.45em 0.6em; margin: 0 0.25em; line-height: 1; border-radius: 0.35em;\">\n",
       "    Jugurtha\n",
       "    <span style=\"font-size: 0.8em; font-weight: bold; line-height: 1; border-radius: 0.35em; text-transform: uppercase; vertical-align: middle; margin-left: 0.5rem\">PER</span>\n",
       "</mark>\n",
       ", \n",
       "<mark class=\"entity\" style=\"background: #ddd; padding: 0.45em 0.6em; margin: 0 0.25em; line-height: 1; border-radius: 0.35em;\">\n",
       "    Arioviste\n",
       "    <span style=\"font-size: 0.8em; font-weight: bold; line-height: 1; border-radius: 0.35em; text-transform: uppercase; vertical-align: middle; margin-left: 0.5rem\">PER</span>\n",
       "</mark>\n",
       ", \n",
       "<mark class=\"entity\" style=\"background: #ddd; padding: 0.45em 0.6em; margin: 0 0.25em; line-height: 1; border-radius: 0.35em;\">\n",
       "    César\n",
       "    <span style=\"font-size: 0.8em; font-weight: bold; line-height: 1; border-radius: 0.35em; text-transform: uppercase; vertical-align: middle; margin-left: 0.5rem\">PER</span>\n",
       "</mark>\n",
       ", \n",
       "<mark class=\"entity\" style=\"background: #ddd; padding: 0.45em 0.6em; margin: 0 0.25em; line-height: 1; border-radius: 0.35em;\">\n",
       "    Pompée\n",
       "    <span style=\"font-size: 0.8em; font-weight: bold; line-height: 1; border-radius: 0.35em; text-transform: uppercase; vertical-align: middle; margin-left: 0.5rem\">PER</span>\n",
       "</mark>\n",
       ", \n",
       "<mark class=\"entity\" style=\"background: #ddd; padding: 0.45em 0.6em; margin: 0 0.25em; line-height: 1; border-radius: 0.35em;\">\n",
       "    Néron\n",
       "    <span style=\"font-size: 0.8em; font-weight: bold; line-height: 1; border-radius: 0.35em; text-transform: uppercase; vertical-align: middle; margin-left: 0.5rem\">PER</span>\n",
       "</mark>\n",
       ", \n",
       "<mark class=\"entity\" style=\"background: #ddd; padding: 0.45em 0.6em; margin: 0 0.25em; line-height: 1; border-radius: 0.35em;\">\n",
       "    Othon\n",
       "    <span style=\"font-size: 0.8em; font-weight: bold; line-height: 1; border-radius: 0.35em; text-transform: uppercase; vertical-align: middle; margin-left: 0.5rem\">PER</span>\n",
       "</mark>\n",
       ", \n",
       "<mark class=\"entity\" style=\"background: #ddd; padding: 0.45em 0.6em; margin: 0 0.25em; line-height: 1; border-radius: 0.35em;\">\n",
       "    Vitellius\n",
       "    <span style=\"font-size: 0.8em; font-weight: bold; line-height: 1; border-radius: 0.35em; text-transform: uppercase; vertical-align: middle; margin-left: 0.5rem\">PER</span>\n",
       "</mark>\n",
       ", \n",
       "<mark class=\"entity\" style=\"background: #ddd; padding: 0.45em 0.6em; margin: 0 0.25em; line-height: 1; border-radius: 0.35em;\">\n",
       "    Domitien\n",
       "    <span style=\"font-size: 0.8em; font-weight: bold; line-height: 1; border-radius: 0.35em; text-transform: uppercase; vertical-align: middle; margin-left: 0.5rem\">PER</span>\n",
       "</mark>\n",
       "?</div></span>"
      ],
      "text/plain": [
       "<IPython.core.display.HTML object>"
      ]
     },
     "metadata": {},
     "output_type": "display_data"
    }
   ],
   "source": [
    "# Using displacy for visualizing NER\n",
    "from spacy import displacy\n",
    "displacy.render(doc,style='ent',jupyter=True)\n"
   ]
  },
  {
   "cell_type": "code",
   "execution_count": 3,
   "metadata": {},
   "outputs": [
    {
     "name": "stdout",
     "output_type": "stream",
     "text": [
      "Salons True 27.719257\n",
      "Satire True 17.798481\n",
      "Scepticisme True 17.683435\n",
      "Sensibilité True 23.768318\n",
      "Sexualité True 24.379883\n",
      "Sensualisme False 0.0\n",
      "Siècle True 29.93297\n",
      "Silhouette True 17.037134\n",
      "Socrate True 19.442907\n",
      "Soldat True 22.530884\n",
      "Sublime True 17.932327\n",
      "Théosophie True 18.343145\n",
      "Newtonianisme False 0.0\n"
     ]
    }
   ],
   "source": [
    "import spacy\n",
    "\n",
    "nlp = spacy.load(\"fr_core_news_lg\")\n",
    "tokens = nlp(\"Salons Satire Scepticisme Sensibilité Sexualité Sensualisme Siècle Silhouette Socrate Soldat Sublime Théosophie Newtonianisme\")\n",
    "\n",
    "for token in tokens:\n",
    "    print(token.text, token.has_vector, token.vector_norm)\n",
    "\n"
   ]
  },
  {
   "cell_type": "code",
   "execution_count": 48,
   "metadata": {},
   "outputs": [
    {
     "name": "stdout",
     "output_type": "stream",
     "text": [
      "sensibilité et sexualité 0.6800283708260398\n",
      "sensibilité et salons 0.10804756734687604\n"
     ]
    }
   ],
   "source": [
    "# Compute Similarity between texts \n",
    "sensibilité=nlp('sensibilité')\n",
    "sexualité=nlp('sexualité')\n",
    "salons=nlp('salons')\n",
    "\n",
    "print('sensibilité et sexualité', sexualité.similarity(sensibilité))\n",
    "print('sensibilité et salons', sensibilité.similarity(salons))"
   ]
  },
  {
   "cell_type": "code",
   "execution_count": null,
   "metadata": {},
   "outputs": [],
   "source": [
    "lettre=nlp('lettre')\n",
    "\n",
    "#opening plain text version of Voltaire's Candide from URI\n",
    "import requests\n",
    "response = requests.get('https://raw.githubusercontent.com/MiMoText/roman-dixhuit/master/plain/files/Laclos_Liaisons.txt')\n",
    "laclos_liaisons = response.text\n",
    "doc = nlp(laclos_liaisons)\n",
    "\n",
    "print('laclos_liaisons et lettre', lettre.similarity(laclos_liaisons))"
   ]
  },
  {
   "cell_type": "code",
   "execution_count": 28,
   "metadata": {},
   "outputs": [
    {
     "data": {
      "text/plain": [
       "array([ 4.45409082e-02, -6.15381775e-03,  6.46736398e-02, -3.30393016e-02,\n",
       "       -1.59137677e-02, -1.76747069e-02,  1.88228905e-01,  7.11481869e-02,\n",
       "       -1.87705457e-02,  4.94494528e-01,  3.82729061e-02, -3.55001837e-02,\n",
       "       -6.40914515e-02,  2.06593629e-02, -1.65406684e-03,  4.02992778e-03,\n",
       "        1.85627292e-03,  1.16481826e-01,  5.43477312e-02, -1.19795270e-01,\n",
       "       -1.29290909e-01, -3.39690894e-02, -7.31890975e-03,  3.00314538e-02,\n",
       "       -3.86636355e-03,  4.93573584e-02,  4.69811819e-02,  6.17290959e-02,\n",
       "       -4.05062698e-02,  4.15974557e-02, -5.41727000e-04,  7.39171803e-02,\n",
       "       -1.00750372e-01,  2.42963433e-03,  1.56963635e-02, -8.17630962e-02,\n",
       "       -1.29146352e-01,  4.21435460e-02, -5.13892807e-02,  9.10463631e-02,\n",
       "       -2.84402613e-02,  1.04187459e-01, -4.51709069e-02, -1.06588183e-02,\n",
       "        7.93296173e-02,  3.62472683e-02, -2.92837266e-02,  2.07281820e-02,\n",
       "        1.04081683e-01, -7.43318200e-02, -7.59636285e-03,  7.37091824e-02,\n",
       "        9.94609073e-02,  2.01836340e-02,  3.50008234e-02,  2.99690906e-02,\n",
       "        3.41585428e-02,  4.04345468e-02,  1.94812734e-02, -9.38863587e-03,\n",
       "        2.38743648e-02, -1.89120919e-01,  8.14954564e-02,  1.72472727e-02,\n",
       "       -9.05983672e-02,  9.87285376e-02, -3.25415470e-02, -8.63566324e-02,\n",
       "        2.08236352e-02, -2.26471722e-02,  2.14632857e-03, -6.37154505e-02,\n",
       "       -7.78881833e-02,  1.58556383e-02,  7.34545989e-04,  3.32519114e-02,\n",
       "       -2.44338196e-02, -1.86722707e-02, -1.15265459e-01,  1.32507272e-02,\n",
       "       -1.72724556e-02, -3.16168293e-02,  3.86955477e-02,  8.42863619e-02,\n",
       "       -4.89105470e-02, -1.10215858e-01, -2.07721815e-02,  1.24449998e-01,\n",
       "       -3.96004543e-02, -1.41321465e-01, -2.78454204e-03,  6.23818636e-02,\n",
       "        3.91889066e-02,  7.12272674e-02,  4.28769104e-02,  7.94259980e-02,\n",
       "       -8.76753628e-02,  8.58854577e-02, -1.85546353e-02, -6.35605454e-02,\n",
       "        3.44652720e-02,  2.60827262e-02,  4.21239100e-02, -7.72500932e-02,\n",
       "        4.39133644e-02, -3.16867262e-01,  9.65809077e-02, -1.81094520e-02,\n",
       "       -4.53572720e-02, -6.30290881e-02, -1.21063627e-02, -4.89572734e-02,\n",
       "        1.21366359e-01,  3.44815403e-02, -9.87472609e-02, -3.88700031e-02,\n",
       "       -1.18068188e-01, -1.23181671e-03, -1.45842731e-02, -7.13602751e-02,\n",
       "        1.03961797e-02,  7.83028230e-02, -1.30221829e-01,  1.67247549e-01,\n",
       "        6.79313615e-02, -2.28999965e-02, -1.41206356e-02, -7.37380013e-02,\n",
       "       -1.51754552e-02, -3.79372686e-02, -1.35723636e-01, -1.77660912e-01,\n",
       "       -2.20329985e-02,  5.25029078e-02, -1.16826363e-01,  1.49079084e-01,\n",
       "       -8.58036354e-02, -1.14132717e-01, -1.00729540e-01,  1.08462550e-01,\n",
       "       -5.70290923e-01,  2.77190916e-02,  6.67615458e-02, -6.84663793e-03,\n",
       "       -6.07290007e-02, -4.53610905e-02,  1.10097602e-01, -6.45638630e-02,\n",
       "        7.20589161e-02,  4.29655425e-02,  1.14722364e-01, -5.50641790e-02,\n",
       "        1.24863628e-02, -2.05110889e-02,  7.42863538e-03,  7.83572719e-02,\n",
       "        3.32586356e-02, -1.76537097e-01, -2.33763624e-02,  1.78136360e-02,\n",
       "       -9.12954509e-02, -1.41699985e-01,  1.23365633e-01,  2.06649005e-01,\n",
       "        3.74742821e-02,  7.75453693e-04, -8.32767412e-02, -2.02181805e-02,\n",
       "       -7.42065459e-02, -5.53852692e-02, -4.41032909e-02, -8.23949054e-02,\n",
       "        5.48472740e-02, -1.40215456e-01, -3.10140010e-02,  1.50618190e-02,\n",
       "       -7.73663595e-02, -7.71972761e-02, -6.43799976e-02, -3.11463606e-02,\n",
       "       -1.03417270e-01, -1.38929084e-01,  7.75327235e-02, -4.89718169e-02,\n",
       "        5.71877249e-02, -1.14063611e-02,  2.35459972e-02,  1.59343402e-03,\n",
       "       -3.08393650e-02,  1.48311825e-02, -8.05177316e-02,  9.16636288e-02,\n",
       "        7.41836289e-03, -4.50503640e-02, -4.75804582e-02, -7.62257054e-02,\n",
       "       -1.99449081e-02, -2.25447267e-01,  1.38259277e-01,  8.13841894e-02,\n",
       "        1.14145493e-02,  9.82263610e-02, -5.06741777e-02, -7.93172792e-03,\n",
       "       -2.79454589e-02,  6.23600036e-02, -1.40609255e-03, -3.17518152e-02,\n",
       "       -1.68653905e-01, -2.20009070e-02, -1.52564973e-01,  6.87670931e-02,\n",
       "       -6.63363654e-03, -4.68036383e-02,  1.27518177e-02,  1.76575005e-01,\n",
       "        5.62790968e-02, -2.18034554e-02,  1.19509073e-02, -1.15502909e-01,\n",
       "        2.38572736e-03, -3.03136390e-02, -9.29527283e-02,  2.51800045e-02,\n",
       "       -3.21909110e-03, -1.16530009e-01,  2.18554530e-02,  3.36826481e-02,\n",
       "        2.31041834e-02,  1.88197289e-02,  7.71885440e-02,  1.01842903e-01,\n",
       "       -5.51458150e-02,  2.16345470e-02, -2.20859088e-02, -6.28799945e-02,\n",
       "       -2.46615466e-02,  1.35272751e-02, -6.27622157e-02, -6.88000163e-03,\n",
       "       -3.27327289e-02, -1.33758828e-01, -5.79899997e-02,  3.36927250e-02,\n",
       "       -6.16354570e-02,  1.39423549e-01,  9.48727410e-03,  2.44072732e-02,\n",
       "       -1.22705409e-02, -1.09241810e-02,  6.22409955e-02,  4.99854535e-02,\n",
       "       -3.26991789e-02, -1.06412724e-01, -7.38481805e-02,  7.83111826e-02,\n",
       "        6.92572668e-02,  8.94099995e-02, -8.33280981e-02,  4.35142741e-02,\n",
       "       -2.96036322e-02,  3.52036394e-02,  6.61808951e-03,  2.78536361e-02,\n",
       "        7.09018186e-02, -7.10359262e-03,  7.17756823e-02,  7.95769021e-02,\n",
       "       -9.62754562e-02,  4.30437736e-02, -2.64127284e-01, -5.88000044e-02,\n",
       "        1.84258204e-02,  7.70472735e-02, -4.55781817e-03,  2.07647271e-02,\n",
       "        1.04955444e-02, -6.03409074e-02,  5.13442755e-02,  1.13939092e-01,\n",
       "        1.51896372e-01,  7.70254582e-02, -8.40139948e-03,  8.96456316e-02,\n",
       "       -1.28251180e-01,  6.54574558e-02,  3.44090015e-02,  7.95527250e-02,\n",
       "        7.50809088e-02, -9.23481062e-02, -3.81409079e-02,  7.37445429e-02,\n",
       "        7.54863629e-03,  3.81001793e-02,  3.93870920e-02,  2.50648558e-02,\n",
       "        1.12278173e-02, -3.77555750e-02, -5.18290959e-02,  1.90623533e-02],\n",
       "      dtype=float32)"
      ]
     },
     "execution_count": 28,
     "metadata": {},
     "output_type": "execute_result"
    }
   ],
   "source": [
    "# process a sentence using the model\n",
    "doc = nlp('Salons Satire Scepticisme Sensibilité Sexualité Sensualisme Siècle Silhouette Socrate Soldate Sublime')\n",
    "# It's that simple - all of the vectors and words are assigned after this point\n",
    "# Get the vector for 'text':\n",
    "doc[3].vector\n",
    "# Get the mean vector for the entire sentence (useful for sentence classification etc.)\n",
    "doc.vector"
   ]
  },
  {
   "cell_type": "code",
   "execution_count": 62,
   "metadata": {},
   "outputs": [],
   "source": [
    "#opening plain text version of Laclos_Liaisons from URI\n",
    "import requests\n",
    "response = requests.get('https://raw.githubusercontent.com/MiMoText/roman-dixhuit/master/plain/files/Laclos_Liaisons.txt')\n",
    "laclos_liaisons = response.text\n",
    "doc = nlp(laclos_liaisons)\n",
    "laclos_liasons_short = (laclos_liaisons[0:150])\n",
    "tokens = nlp(laclos_liasons_short)"
   ]
  },
  {
   "cell_type": "code",
   "execution_count": 67,
   "metadata": {},
   "outputs": [
    {
     "name": "stdout",
     "output_type": "stream",
     "text": [
      " \n",
      " False 0.0\n",
      "AVERTISSEMENT True 14.837525\n",
      "DE True 74.96739\n",
      "L' True 109.51171\n",
      "ÉDITEUR True 31.915905\n",
      ". True 43.718\n",
      "\n",
      " False 0.0\n",
      "Nous True 54.0559\n",
      "croyons True 21.24981\n",
      "devoir True 28.550219\n",
      "prévenir True 27.262228\n",
      "le True 68.99325\n",
      "Public True 28.366117\n",
      "que True 50.804264\n",
      ", True 32.17065\n",
      "malgré True 26.515179\n",
      "le True 68.99325\n",
      "titre True 34.160946\n",
      "de True 58.922653\n",
      "cet True 58.825214\n",
      "ouvrage True 28.421127\n",
      "et True 43.582584\n",
      "ce True 75.84347\n",
      "qu' True 55.358067\n",
      "en True 70.23479\n",
      "dit True 49.06739\n",
      "le True 68.99325\n",
      "rédacteur True 22.528395\n",
      "dans True 33.814415\n",
      "sa True 96.66397\n",
      "préface True 21.833696\n"
     ]
    }
   ],
   "source": [
    "for token in tokens:\n",
    "    print(token.text, token.has_vector, token.vector_norm)"
   ]
  },
  {
   "cell_type": "code",
   "execution_count": 82,
   "metadata": {},
   "outputs": [],
   "source": [
    "from bs4 import BeautifulSoup\n",
    "import requests\n",
    "import traceback\n",
    " \n",
    "def get_text (url):\n",
    "    buf = []\n",
    "  \n",
    "    try:\n",
    "        soup = BeautifulSoup(requests.get(url).text, \"html.parser\")\n",
    "        \n",
    "        for p in soup.find_all(\"p\"):\n",
    "            buf.append(p.get_text())\n",
    " \n",
    "        return \"\\n\".join(buf)\n",
    "    except: \n",
    "        print(traceback.format_exc())\n",
    "        sys.exit(-1)"
   ]
  },
  {
   "cell_type": "code",
   "execution_count": null,
   "metadata": {},
   "outputs": [],
   "source": [
    "lic = {}\n",
    "lic[\"Laclos_Liaisons\"] = nlp(get_text(\"https://raw.githubusercontent.com/MiMoText/roman-dixhuit/master/plain/files/Laclos_Liaisons.txt\"))\n",
    "lic[\"asl\"] = nlp(get_text(\"https://opensource.org/licenses/Apache-2.0\"))\n",
    "lic[\"bsd\"] = nlp(get_text(\"https://opensource.org/licenses/BSD-3-Clause\"))\n",
    " \n",
    "for sent in lic[\"bsd\"].sents:\n",
    "    print(\">\", sent)"
   ]
  },
  {
   "cell_type": "code",
   "execution_count": 84,
   "metadata": {},
   "outputs": [
    {
     "name": "stdout",
     "output_type": "stream",
     "text": [
      "Laclos_Liaisons asl 0.0\n",
      "asl bsd 0.9268238265800538\n",
      "bsd Laclos_Liaisons 0.0\n"
     ]
    },
    {
     "name": "stderr",
     "output_type": "stream",
     "text": [
      "<ipython-input-84-72923273e7bb>:8: UserWarning: [W008] Evaluating Doc.similarity based on empty vectors.\n",
      "  print(a, b, lic[a].similarity(lic[b]))\n"
     ]
    }
   ],
   "source": [
    "pairs = [\n",
    "    [\"Laclos_Liaisons\", \"asl\"], \n",
    "    [\"asl\", \"bsd\"], \n",
    "    [\"bsd\", \"Laclos_Liaisons\"]\n",
    "]\n",
    " \n",
    "for a, b in pairs:\n",
    "    print(a, b, lic[a].similarity(lic[b]))"
   ]
  },
  {
   "cell_type": "code",
   "execution_count": 100,
   "metadata": {},
   "outputs": [
    {
     "name": "stderr",
     "output_type": "stream",
     "text": [
      "[nltk_data] Downloading package wordnet to\n",
      "[nltk_data]     C:\\Users\\Administrator\\AppData\\Roaming\\nltk_data...\n",
      "[nltk_data]   Package wordnet is already up-to-date!\n"
     ]
    },
    {
     "data": {
      "text/plain": [
       "True"
      ]
     },
     "execution_count": 100,
     "metadata": {},
     "output_type": "execute_result"
    }
   ],
   "source": [
    "import nltk\n",
    "nltk.download(\"wordnet\")"
   ]
  },
  {
   "cell_type": "code",
   "execution_count": null,
   "metadata": {},
   "outputs": [],
   "source": [
    "import spacy\n",
    "# Load the spacy model that you have installed\n",
    "nlp = spacy.load('fr_core_web_md')\n",
    "# process a sentence using the model\n",
    "doc = nlp(\"This is some text that I am processing with Spacy\")\n",
    "# It's that simple - all of the vectors and words are assigned after this point\n",
    "# Get the vector for 'text':\n",
    "doc[3].vector\n",
    "# Get the mean vector for the entire sentence (useful for sentence classification etc.)\n",
    "doc.vector"
   ]
  },
  {
   "cell_type": "code",
   "execution_count": null,
   "metadata": {},
   "outputs": [],
   "source": [
    "lemmatizer = Lemmatizer(lookups)"
   ]
  },
  {
   "cell_type": "code",
   "execution_count": 6,
   "metadata": {},
   "outputs": [
    {
     "data": {
      "text/plain": [
       "array([-1.97    , -3.128   ,  0.84188 ,  2.4594  , -3.9371  ,  0.53843 ,\n",
       "       -0.6954  , -0.59731 ,  0.48815 , -2.0252  , -1.6655  ,  0.035474,\n",
       "        1.5994  , -0.65497 ,  0.85439 ,  0.76914 ,  0.96057 , -0.31809 ,\n",
       "       -0.030133,  0.57971 ,  1.7804  ,  0.45991 , -1.3055  , -0.78577 ,\n",
       "       -1.7592  ,  0.54111 , -0.30987 , -0.16627 ,  1.1548  , -2.0847  ,\n",
       "       -0.88335 ,  0.63039 ,  2.2595  , -1.0256  ,  3.2796  , -0.98301 ,\n",
       "       -0.72063 , -1.395   ,  1.6252  ,  0.51389 ,  2.8148  ,  0.62128 ,\n",
       "       -0.89088 ,  1.7662  , -1.2811  , -0.32423 , -2.3852  , -1.4047  ,\n",
       "        1.7208  , -1.1711  ,  0.20749 ,  0.334   ,  0.32861 ,  1.2355  ,\n",
       "       -1.252   , -0.526   , -1.39    ,  0.61178 ,  1.7188  ,  1.5763  ,\n",
       "       -0.73748 , -1.2155  , -0.87986 , -0.62867 , -0.81942 , -0.7477  ,\n",
       "        1.6957  ,  0.6963  , -1.8163  , -0.11045 , -2.497   ,  2.0221  ,\n",
       "       -0.39865 , -0.02999 , -0.055437,  1.3216  ,  1.4194  ,  1.0508  ,\n",
       "       -2.0811  , -2.5842  ,  1.8958  ,  2.4295  ,  0.67253 ,  0.85548 ,\n",
       "       -1.3594  ,  0.77436 , -1.8373  , -1.7772  , -2.562   ,  0.45338 ,\n",
       "        1.0586  ,  1.7793  ,  1.6478  ,  1.5638  ,  0.42732 ,  0.56259 ,\n",
       "       -0.37235 ,  1.3888  , -0.45295 ,  1.7729  , -0.13881 , -1.8128  ,\n",
       "       -0.50375 ,  1.6523  , -0.58717 ,  0.28714 , -0.76443 ,  2.6989  ,\n",
       "        0.82709 ,  0.11605 ,  0.54546 , -0.88135 , -1.0755  ,  1.3106  ,\n",
       "       -0.97756 , -0.058251, -0.27534 , -0.59481 , -0.37198 , -0.19445 ,\n",
       "       -1.435   ,  0.35524 , -1.6467  ,  0.34682 ,  0.54199 ,  3.101   ,\n",
       "        0.45129 , -0.47753 , -0.10707 , -0.43163 , -1.4358  , -0.61037 ,\n",
       "       -0.84951 ,  3.1608  , -0.88212 , -1.4811  , -1.0413  ,  0.94832 ,\n",
       "       -2.2282  ,  0.35465 ,  1.2432  , -2.1512  ,  0.27088 ,  0.2555  ,\n",
       "       -1.0305  ,  0.82951 , -2.2142  , -0.63605 ,  0.56737 ,  0.093906,\n",
       "        1.3346  ,  2.1136  ,  3.048   , -1.6171  , -0.74265 ,  1.0549  ,\n",
       "        0.67668 , -0.18435 , -0.48574 ,  2.4989  , -0.3098  ,  1.8221  ,\n",
       "       -0.41996 , -0.73763 ,  0.55379 , -1.1813  ,  0.058341,  1.4133  ,\n",
       "       -1.333   ,  0.41496 ,  2.0624  ,  0.22106 , -0.96154 , -0.4913  ,\n",
       "        1.7622  ,  0.59445 ,  2.8035  , -0.44473 ,  1.2387  ,  1.4507  ,\n",
       "       -1.6505  ,  1.3869  , -0.73107 ,  2.2241  ,  0.95108 , -0.20878 ,\n",
       "        0.23771 ,  3.2228  , -2.5891  , -0.97061 ,  1.8501  , -3.0333  ,\n",
       "        0.69142 , -0.27421 , -1.0063  ,  1.0511  ,  1.9667  , -5.0729  ,\n",
       "        1.1618  , -2.1288  ,  2.3005  , -0.29444 ,  1.0769  ,  0.162   ,\n",
       "       -4.2242  , -0.71615 , -0.96143 ,  1.6482  ,  1.1078  ,  0.57843 ,\n",
       "        0.62638 , -0.007841,  2.2273  , -2.7546  ,  2.547   , -0.23434 ,\n",
       "       -2.7503  ,  1.0923  ,  1.7774  , -2.5683  ,  0.78864 , -0.1423  ,\n",
       "        1.2289  , -1.2531  ,  1.2627  ,  0.99959 ,  1.8181  , -0.27669 ,\n",
       "       -0.29125 ,  0.56161 , -0.70484 ,  0.55226 , -1.9038  ,  0.88441 ,\n",
       "       -2.954   , -1.9745  , -0.26758 , -2.3383  ,  0.52125 , -0.10947 ,\n",
       "        0.40885 , -0.70978 ,  0.36698 ,  2.6629  ,  0.48436 , -0.28278 ,\n",
       "        1.1807  ,  0.44106 , -3.2023  ,  0.70378 , -1.6315  ,  0.088305,\n",
       "        1.5384  ,  0.049891, -0.26512 ,  0.19509 , -3.1257  ,  0.26791 ,\n",
       "       -0.63711 ,  0.34467 ,  1.3371  , -0.82491 , -1.8497  , -0.7019  ,\n",
       "        1.5645  ,  0.70445 ,  0.24045 , -3.3722  ,  0.7565  ,  2.5525  ,\n",
       "        0.3165  ,  1.1238  ,  0.58422 , -2.3006  , -2.2651  ,  1.0923  ,\n",
       "        0.10425 ,  0.35765 , -0.52572 , -1.6015  , -0.23378 , -1.0952  ,\n",
       "        2.2747  , -1.3149  ,  0.98794 ,  1.3478  ,  1.5517  , -1.7627  ,\n",
       "       -0.12597 , -1.0632  , -0.56341 ,  1.9884  , -0.5471  ,  0.64536 ,\n",
       "        0.32787 ,  0.90975 , -1.0685  ,  0.90057 ,  1.3882  ,  0.047153],\n",
       "      dtype=float32)"
      ]
     },
     "execution_count": 6,
     "metadata": {},
     "output_type": "execute_result"
    }
   ],
   "source": [
    "doc = nlp('Lumières')\n",
    "doc.vector"
   ]
  },
  {
   "cell_type": "code",
   "execution_count": null,
   "metadata": {},
   "outputs": [],
   "source": []
  }
 ],
 "metadata": {
  "kernelspec": {
   "display_name": "Python 3",
   "language": "python",
   "name": "python3"
  },
  "language_info": {
   "codemirror_mode": {
    "name": "ipython",
    "version": 3
   },
   "file_extension": ".py",
   "mimetype": "text/x-python",
   "name": "python",
   "nbconvert_exporter": "python",
   "pygments_lexer": "ipython3",
   "version": "3.8.3"
  }
 },
 "nbformat": 4,
 "nbformat_minor": 4
}
